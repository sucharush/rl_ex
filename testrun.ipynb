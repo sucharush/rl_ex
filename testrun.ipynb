{
 "cells": [
  {
   "cell_type": "code",
   "execution_count": 153,
   "metadata": {},
   "outputs": [
    {
     "name": "stdout",
     "output_type": "stream",
     "text": [
      "The autoreload extension is already loaded. To reload it, use:\n",
      "  %reload_ext autoreload\n"
     ]
    }
   ],
   "source": [
    "%load_ext autoreload\n",
    "%autoreload 2\n",
    "from rectangle import Rectangle\n",
    "from environment import RectangleEnv\n",
    "from optimizer import StepOptimizer\n",
    "from algorithms import *"
   ]
  },
  {
   "cell_type": "code",
   "execution_count": 17,
   "metadata": {},
   "outputs": [],
   "source": [
    "from sanity_tests import *\n",
    "from example_generator import make_cases, build_envs_from_cases\n",
    "import numpy as np"
   ]
  },
  {
   "cell_type": "code",
   "execution_count": 5,
   "metadata": {},
   "outputs": [],
   "source": [
    "if __name__ == \"__main__\":\n",
    "    # Run the sanity checks for the Rectangle class\n",
    "    test_rectangle_distance()\n",
    "    # Run the sanity checks for the RectangleEnv\n",
    "    sanity_check_step_optimizer()\n",
    "\n",
    "    env = build_env()\n",
    "    env.render()\n",
    "\n",
    "    # 1) state invariants on reset\n",
    "    env.reset()\n",
    "    check_encode_state_invariants(env)\n",
    "\n",
    "    # 2) axis isolation (uses apply_action only)\n",
    "    check_axis_isolation(env)\n",
    "\n",
    "    # 3) rollout that prints distances, rewards, and invariants\n",
    "    rollout_and_print(env, steps=18)\n",
    "\n",
    "    # 4) terminal checks\n",
    "    check_terminal_conditions(env)\n",
    "\n",
    "    print(\"\\n[done] If something looks off (e.g., reward != expected), tweak compute_reward or the alpha/beta used.\")"
   ]
  },
  {
   "cell_type": "code",
   "execution_count": 18,
   "metadata": {},
   "outputs": [],
   "source": [
    "# rect_params = dict(center=(0, 0), width=2.0, height=1.0, theta=np.pi/6)\n",
    "# optimizer_params = dict(tau=0.1, loss=\"soft_l1\", bounds=(-5, 5))\n",
    "# offsetX, offsetY = np.random.uniform(-2, 3), np.random.uniform(-2, 3)\n",
    "# rect = Rectangle(**rect_params)\n",
    "# import matplotlib.pyplot as plt\n",
    "# fig, ax = plt.subplots()\n",
    "# rect.plot(ax=ax, color='blue', alpha=0.5)\n",
    "# rect.move(dx=offsetX, dy=offsetY)\n",
    "# points = rect.sample_points(num_points=10, jitter=0.0, rng=np.random.default_rng(42)) \n",
    "# ax.scatter(points[:, 0], points[:, 1], color='red', label='Sampled Points')\n",
    "# env = RectangleEnv(rect_params=rect_params, optimizer_params=optimizer_params, points=points)"
   ]
  },
  {
   "cell_type": "code",
   "execution_count": 97,
   "metadata": {},
   "outputs": [],
   "source": [
    "def run_algo(algo_name, example_name, env = RectangleEnv, episodes=500, **kwargs):\n",
    "    \"\"\"\n",
    "    Convenience function to run an algorithm on the given environment.\n",
    "    \"\"\"\n",
    "    if algo_name == 'sarsa':\n",
    "        Q, logs = train_sarsa(env, episodes=episodes, **kwargs)\n",
    "    elif algo_name == 'q':\n",
    "        Q, logs = train_q_learning(env, episodes=episodes, **kwargs)\n",
    "    else:\n",
    "        raise ValueError(f\"Unknown algorithm: {algo_name}\")\n",
    "    metrics = run_episode(env, Q, render=True)\n",
    "    display(env.log)\n",
    "    print(\"greedy eval:\", metrics)\n",
    "    env.show_gif(filename=f\"gifs_{algo_name}/{example_name}_animation.gif\")"
   ]
  },
  {
   "cell_type": "code",
   "execution_count": 145,
   "metadata": {},
   "outputs": [],
   "source": [
    "params = {\n",
    "    'episodes': 500,\n",
    "    'alpha': 0.1,\n",
    "    'gamma': 1,\n",
    "    'eps_start': 0.2,\n",
    "    'eps_end': 0.01,\n",
    "    'eps_decay': 0.995,\n",
    "    'seed': 0\n",
    "}\n",
    "rect_params = dict(center=(0, 0), width=2.0, height=1.0, theta=np.pi/6)\n",
    "optimizer_params = dict(tau=0.1, loss=\"soft_l1\", bounds=(-5, 5))\n",
    "\n",
    "cases = make_cases(rect_params, optimizer_params, num_points=20, jitter=0.01)\n",
    "envs  = build_envs_from_cases(cases)"
   ]
  },
  {
   "cell_type": "code",
   "execution_count": 1,
   "metadata": {},
   "outputs": [],
   "source": [
    "name, env = list(envs.items())[-1]\n",
    "run_algo('sarsa',name, env, **params)\n"
   ]
  },
  {
   "cell_type": "code",
   "execution_count": 2,
   "metadata": {},
   "outputs": [],
   "source": [
    "for name, env in list(envs.items()):\n",
    "    print(f\"-----------------{name}------------------\")\n",
    "    run_algo(\"sarsa\", name,  env, **params)\n",
    "    print(f\"-----------------------------------------\\n\")"
   ]
  },
  {
   "cell_type": "code",
   "execution_count": 3,
   "metadata": {},
   "outputs": [],
   "source": [
    "for name, env in envs.items():\n",
    "    print(f\"-----------------{name}------------------\")\n",
    "    run_algo(\"q\", name, env, **params)\n",
    "    print(f\"-----------------------------------------\\n\")"
   ]
  },
  {
   "cell_type": "code",
   "execution_count": 4,
   "metadata": {},
   "outputs": [],
   "source": [
    "# from algorithms import train_sarsa, train_q_learning, run_episode\n",
    "# # Train SARSA\n",
    "Q, logs = train_sarsa(env, episodes=500, alpha=0.1, gamma=1,\n",
    "                      eps_start=0.2, eps_end=0.01, eps_decay=0.995, seed=0)\n",
    "# Q, logs = train_q_learning(env, episodes=400, alpha=0.1, gamma=1,\n",
    "#                       eps_start=0.2, eps_end=0.01, eps_decay=0.995, seed=0)\n",
    "\n",
    "# Inspect a few metrics\n",
    "print(\"last 5 episode returns:\", [d['return'] for d in logs[-5:]])\n",
    "print(\"last 5 iters used:    \", [d['iters']  for d in logs[-5:]])\n",
    "print(\"success ratio:\", sum(d['solved'] for d in logs[-50:]), \"/ last 50\")\n",
    "\n",
    "# Evaluate/render one greedy episode and get the total optimizer iterations used\n",
    "metrics = run_episode(env, Q, render=True)\n",
    "print(\"greedy eval:\", metrics)"
   ]
  },
  {
   "cell_type": "code",
   "execution_count": null,
   "metadata": {},
   "outputs": [],
   "source": []
  },
  {
   "cell_type": "code",
   "execution_count": null,
   "metadata": {},
   "outputs": [],
   "source": []
  }
 ],
 "metadata": {
  "kernelspec": {
   "display_name": "rl-env",
   "language": "python",
   "name": "python3"
  },
  "language_info": {
   "codemirror_mode": {
    "name": "ipython",
    "version": 3
   },
   "file_extension": ".py",
   "mimetype": "text/x-python",
   "name": "python",
   "nbconvert_exporter": "python",
   "pygments_lexer": "ipython3",
   "version": "3.12.3"
  }
 },
 "nbformat": 4,
 "nbformat_minor": 2
}
